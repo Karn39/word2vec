{
 "cells": [
  {
   "cell_type": "code",
   "execution_count": 2,
   "metadata": {
    "collapsed": true
   },
   "outputs": [],
   "source": [
    "# coding=utf-8\n",
    "import jieba\n",
    "import numpy as np\n",
    "import matplotlib\n",
    "import matplotlib.pyplot as plt\n",
    "from sklearn.decomposition import PCA"
   ]
  },
  {
   "cell_type": "markdown",
   "metadata": {},
   "source": [
    "### corpus.txt 為簡體中文文本 "
   ]
  },
  {
   "cell_type": "code",
   "execution_count": 3,
   "metadata": {
    "collapsed": true
   },
   "outputs": [],
   "source": [
    "# file path\n",
    "filePath='/Users/youngmihuang/Downloads/corpus.txt'\n",
    "fileSegWordDonePath ='corpusSegDone_simple.txt'\n",
    "\n",
    "# read the file by file\n",
    "fileTrainRead = []\n",
    "with open(filePath) as fileTrainRaw:\n",
    "    for line in fileTrainRaw:\n",
    "        fileTrainRead.append(line)"
   ]
  },
  {
   "cell_type": "code",
   "execution_count": 4,
   "metadata": {},
   "outputs": [
    {
     "name": "stderr",
     "output_type": "stream",
     "text": [
      "Building prefix dict from the default dictionary ...\n",
      "Dumping model to file cache /var/folders/c6/vq7n4xz94bqdm56d8hb739kr0000gn/T/jieba.cache\n",
      "Loading model cost 2.611 seconds.\n",
      "Prefix dict has been built succesfully.\n"
     ]
    },
    {
     "name": "stdout",
     "output_type": "stream",
     "text": [
      "0\n",
      "50000\n",
      "100000\n",
      "150000\n",
      "200000\n",
      "250000\n",
      "300000\n",
      "350000\n",
      "400000\n",
      "450000\n",
      "500000\n",
      "550000\n",
      "600000\n",
      "650000\n",
      "700000\n",
      "750000\n",
      "800000\n",
      "850000\n",
      "900000\n",
      "950000\n",
      "1000000\n",
      "1050000\n",
      "1100000\n",
      "1150000\n",
      "1200000\n",
      "1250000\n",
      "1300000\n",
      "1350000\n",
      "1400000\n"
     ]
    }
   ],
   "source": [
    "# define this function to print a list with Chinese\n",
    "def PrintListChinese(list):\n",
    "    for i in range(len(list)):\n",
    "        print list[i],\n",
    "\n",
    "# segment word with jieba\n",
    "fileTrainSeg=[]\n",
    "for i in range(len(fileTrainRead)):\n",
    "    fileTrainSeg.append([' '.join(list(jieba.cut(fileTrainRead[i][9:-11],cut_all=False)))])\n",
    "    if i % 50000 == 0 :\n",
    "        print i"
   ]
  },
  {
   "cell_type": "code",
   "execution_count": 5,
   "metadata": {},
   "outputs": [],
   "source": [
    "# save the result\n",
    "with open(fileSegWordDonePath,'wb') as fW:\n",
    "    for i in range(len(fileTrainSeg)):\n",
    "        fW.write(fileTrainSeg[i][0].encode('utf-8'))\n",
    "        fW.write('\\n')"
   ]
  },
  {
   "cell_type": "code",
   "execution_count": 6,
   "metadata": {},
   "outputs": [
    {
     "name": "stdout",
     "output_type": "stream",
     "text": [
      "Starting training using file corpusSegDone_simple.txt\n",
      "Vocab size: 507882\n",
      "Words in train file: 391829209\n"
     ]
    },
    {
     "name": "stderr",
     "output_type": "stream",
     "text": [
      "IOPub data rate exceeded.\n",
      "The notebook server will temporarily stop sending output\n",
      "to the client in order to avoid crashing it.\n",
      "To change this limit, set the config variable\n",
      "`--NotebookApp.iopub_data_rate_limit`.\n"
     ]
    }
   ],
   "source": [
    "# jieba seg words transform to word2vec\n",
    "import word2vec\n",
    "word2vec.word2vec('corpusSegDone_simple.txt', 'corpusWord2Vec_simple.bin', size=300,verbose=True)"
   ]
  },
  {
   "cell_type": "code",
   "execution_count": 7,
   "metadata": {},
   "outputs": [
    {
     "name": "stdout",
     "output_type": "stream",
     "text": [
      "２ ０ １ ２ 年 东风 标致 小桔灯 乡村 小学 图书馆 计划 于 ６ 月 ２ ３ 日 － ２ ９ 日 在 湖北省 武汉市 新洲区 凤凰 镇 郭岗 小学 举行 ， 来自 全国 各地 的 ７ 名 志愿者 带 着 东风 标致 ５ ０ ８ 汽车 捐赠 的 ２ ０ ０ ０ 本 新书 ， 建立 起有 一所 “ 小桔灯 乡村 小学 图书馆 ” 。 Ｎ 浜 菏行 轮耷 不仅 是 革命 老区 ， 也 是 全国 有名 的 建筑 之 乡 ； 这里 的 人 大部分 都 外出 从事 建筑业 ， 导致 这里 的 留守 儿童 比例 其高 。 郭岗 小学 现有 学生 １ ３ ６ 名 （ 含 教学点 一处 ） ， 其中 住校 学生 ９ ８ 名 ， 全校 ９ ０ ％ 左右 的 学生 都 是 留守 儿童 。 Ｔ 诨 疃 举行 之前 ， 学校 图书室 里 摆满 了 陈旧 的 教科书 ， 这里 的 学生 在 课外 时间 没有 课外书 可以 阅读 ； 在 志愿者 问 学生 喜欢 读 什么 书 的 时候 ， 大部分 孩子 的 回答 是 “ 童话 书 ” ， 当 再 问 他们 还 喜欢 什么 图书 的 时候 ， 孩子 迷茫 的 眼神 让 我们 明白 由于 没有 接触 过 课外书 ， 很多 孩子 不 知道 除了 童话 书 以外 还有 什么 类别 的 书 可以 阅读 。 Ｎ 了 改变 这一 现状 ， 此次 活动 捐赠 的 图书 涵盖 了 童话 、 中外 文学 、 传统 文学 、 注音版 和 绘画板 少儿读物 等 ； 学校 郭 校长 也 承诺 会 在 每天 的 晚自习 时 对 全校学生 开放 阅读 和 借书 。 ４ 舜位 疃 也 得到 了 文化 、 经济 各界 名人 的 支持 ， 包括 陈丹青 、 邓康延 、 洪晃 、 陆琪 、 蒋方舟 、 饶雪漫 、 沈颢 、 沈南鹏 、 田 立新 、 熊焰 、 张琼 ， 都 为 乡村 儿童 推荐 了 他们 认为 应该 阅读 的 图书 ； 我们 也 在 东风 标致 ５ ０ ８ 汽车 的 支持 下 ， 在 捐赠 的 ２ ０ ０ ０ 本书 之外 购买 了 上述 人士 推荐 的 图书 ， 作为 额外 的 补充 捐赠 给 学校 。 Ｔ 谝 恢 芑 疃 的 结束 时 ， 志愿者 们 为 孩子 们 安排 了 别开生面 的 表演 ， 帮助 孩子 们 展示 一周 以来 通过 阅读 图书 所 编排 的 各类 节目 ； 留守 在 村里 的 老人 成 了 孩子 们 的 观众 ； 而 很多 父母 都 在外 打工 的 学生 ， 则 在 活动 后 由于 遗憾 自己 的 表演 没有 亲人 观看 而 神伤 。 对 这些 孩子 ， 志愿者 们 拉 着 他们 做 游戏 、 聊天 ， 帮助 他们 理解 父母 的 难处 ， 鼓励 他们 好好学习 ， 在 即将 到来 的 暑假 带 着 优秀 的 成绩单 去 城市 和 他们 的 父母 团聚 。\n"
     ]
    }
   ],
   "source": [
    "# define this function to print a list with Chinese\n",
    "def PrintListChinese(list):\n",
    "    for i in range(len(list)):\n",
    "        print list[i],\n",
    "# to test the segment result\n",
    "PrintListChinese(fileTrainSeg[10])"
   ]
  },
  {
   "cell_type": "code",
   "execution_count": 8,
   "metadata": {},
   "outputs": [
    {
     "name": "stdout",
     "output_type": "stream",
     "text": [
      "[[ 0.08015626  0.08850129 -0.07670335 ..., -0.02626957 -0.03316621\n",
      "   0.0614953 ]\n",
      " [-0.01974414 -0.04534753 -0.02412491 ...,  0.00212279  0.01672403\n",
      "   0.10066487]\n",
      " [ 0.00576182 -0.0037029   0.01287382 ..., -0.00204778 -0.02935739\n",
      "   0.11532612]\n",
      " ..., \n",
      " [ 0.02360569 -0.03509952 -0.07239769 ...,  0.03247688  0.02401271\n",
      "   0.01981012]\n",
      " [ 0.01294224  0.08575935 -0.08977435 ...,  0.0805053  -0.05058211\n",
      "  -0.02460997]\n",
      " [ 0.03131835 -0.06119591 -0.02543901 ...,  0.08411267  0.02657896\n",
      "  -0.01638668]]\n"
     ]
    }
   ],
   "source": [
    "# see the word2vector\n",
    "model = word2vec.load('corpusWord2Vec_simple.bin')\n",
    "print model.vectors"
   ]
  },
  {
   "cell_type": "code",
   "execution_count": 9,
   "metadata": {},
   "outputs": [
    {
     "name": "stdout",
     "output_type": "stream",
     "text": [
      "几乎\n",
      "不要\n",
      "人民\n",
      "集中\n",
      "有人\n"
     ]
    }
   ],
   "source": [
    "# see the example of vocabulary from 996 to 1000\n",
    "for i in range(995,1000):\n",
    "    print model.vocab[i]"
   ]
  },
  {
   "cell_type": "code",
   "execution_count": 10,
   "metadata": {
    "scrolled": true
   },
   "outputs": [
    {
     "name": "stdout",
     "output_type": "stream",
     "text": [
      "大学毕业\n",
      "本科毕业\n",
      "高中毕业\n",
      "考入\n",
      "大二\n",
      "离校\n",
      "踏入社会\n",
      "毕业生\n",
      "在读\n",
      "考上\n"
     ]
    }
   ],
   "source": [
    "# check correlation of the specific word\n",
    "indexes = model.cosine(u'毕业')\n",
    "for index in indexes[0]:\n",
    "    print model.vocab[index]"
   ]
  },
  {
   "cell_type": "code",
   "execution_count": 11,
   "metadata": {},
   "outputs": [
    {
     "name": "stdout",
     "output_type": "stream",
     "text": [
      "小宝宝\n",
      "孩子\n",
      "准妈妈\n",
      "小孩\n",
      "小孩子\n",
      "小朋友\n",
      "小宝贝\n",
      "胎儿\n",
      "婴儿\n",
      "妈咪\n"
     ]
    }
   ],
   "source": [
    "indexes = model.cosine(u'宝宝')\n",
    "for index in indexes[0]:\n",
    "    print model.vocab[index]"
   ]
  },
  {
   "cell_type": "code",
   "execution_count": 12,
   "metadata": {},
   "outputs": [
    {
     "name": "stdout",
     "output_type": "stream",
     "text": [
      "坐车\n",
      "坐火车\n",
      "坐地铁\n",
      "买票\n",
      "转车\n",
      "开车\n",
      "赶车\n",
      "坐飞机\n",
      "乘火车\n",
      "乘车\n"
     ]
    }
   ],
   "source": [
    "indexes = model.cosine(u'打车')\n",
    "for index in indexes[0]:\n",
    "    print model.vocab[index]"
   ]
  },
  {
   "cell_type": "code",
   "execution_count": 13,
   "metadata": {},
   "outputs": [
    {
     "name": "stdout",
     "output_type": "stream",
     "text": [
      "刘恺威\n",
      "赵文卓\n",
      "冯绍峰\n",
      "林心如\n",
      "邓超\n",
      "秦岚\n",
      "黄奕\n",
      "高圆圆\n",
      "张智霖\n",
      "杜淳\n"
     ]
    }
   ],
   "source": [
    "indexes = model.cosine(u'杨幂')\n",
    "for index in indexes[0]:\n",
    "    print model.vocab[index]"
   ]
  },
  {
   "cell_type": "code",
   "execution_count": 14,
   "metadata": {},
   "outputs": [
    {
     "name": "stdout",
     "output_type": "stream",
     "text": [
      "网易\n",
      "新浪\n",
      "百度\n",
      "百视通\n",
      "阿里巴巴\n",
      "优酷\n",
      "搜狗\n",
      "携程\n",
      "开放平台\n",
      "凡客\n"
     ]
    }
   ],
   "source": [
    "indexes = model.cosine(u'腾讯')\n",
    "for index in indexes[0]:\n",
    "    print model.vocab[index]"
   ]
  },
  {
   "cell_type": "code",
   "execution_count": 15,
   "metadata": {
    "collapsed": true
   },
   "outputs": [],
   "source": [
    "# load the word2vec model\n",
    "rawWordVec = model.vectors\n",
    " \n",
    "# reduce the dimension of word vector\n",
    "X_reduced = PCA(n_components=2).fit_transform(rawWordVec)\n",
    " \n",
    "# show some word(center word) and it's similar words\n",
    "index1,metrics1 = model.cosine(u'毕业')\n",
    "index2,metrics2 = model.cosine(u'宝宝')\n",
    "index3,metrics3 = model.cosine(u'打车')\n",
    "index4,metrics4 = model.cosine(u'杨幂')\n",
    "index5,metrics5 = model.cosine(u'腾讯')\n",
    " \n",
    "# add the index of center word \n",
    "index01=np.where(model.vocab==u'毕业')\n",
    "index02=np.where(model.vocab==u'宝宝')\n",
    "index03=np.where(model.vocab==u'打车')\n",
    "index04=np.where(model.vocab==u'杨幂')\n",
    "index05=np.where(model.vocab==u'腾讯')\n",
    " \n",
    "index1=np.append(index1,index01)\n",
    "index2=np.append(index2,index02)\n",
    "index3=np.append(index3,index03)\n",
    "index4=np.append(index4,index04)\n",
    "index5=np.append(index5,index05)\n",
    " "
   ]
  },
  {
   "cell_type": "code",
   "execution_count": 16,
   "metadata": {},
   "outputs": [
    {
     "data": {
      "image/png": "[encoded data removed]",
      "text/plain": [
       "<matplotlib.figure.Figure at 0x257069590>"
      ]
     },
     "metadata": {},
     "output_type": "display_data"
    },
    {
     "data": {
      "text/plain": [
       "<matplotlib.figure.Figure at 0x257069d90>"
      ]
     },
     "metadata": {},
     "output_type": "display_data"
    }
   ],
   "source": [
    "# plot the result\n",
    "zhfont = matplotlib.font_manager.FontProperties(fname='/Users/youngmihuang/Downloads/wqy-microhei.ttc')\n",
    "fig = plt.figure()\n",
    "ax = fig.add_subplot(111)\n",
    " \n",
    "for i in index1:\n",
    "    ax.text(X_reduced[i][0],X_reduced[i][1], model.vocab[i], fontproperties=zhfont,color='C3')\n",
    "\n",
    "for i in index2:\n",
    "    ax.text(X_reduced[i][0],X_reduced[i][1], model.vocab[i], fontproperties=zhfont,color='C1')\n",
    "\n",
    "# for i in index3:\n",
    "#     ax.text(X_reduced[i][0],X_reduced[i][1], model.vocab[i], fontproperties=zhfont,color='C7')\n",
    "\n",
    "for i in index4:\n",
    "    ax.text(X_reduced[i][0],X_reduced[i][1], model.vocab[i], fontproperties=zhfont,color='C0')\n",
    "\n",
    "# for i in index5:\n",
    "#     ax.text(X_reduced[i][0],X_reduced[i][1], model.vocab[i], fontproperties=zhfont,color='C4')\n",
    "\n",
    "ax.axis([0.10,0.43, -0.20,0.60])\n",
    "plt.figure(figsize=(60,60))\n",
    "plt.show()"
   ]
  }
 ],
 "metadata": {
  "kernelspec": {
   "display_name": "Python 2",
   "language": "python",
   "name": "python2"
  },
  "language_info": {
   "codemirror_mode": {
    "name": "ipython",
    "version": 2
   },
   "file_extension": ".py",
   "mimetype": "text/x-python",
   "name": "python",
   "nbconvert_exporter": "python",
   "pygments_lexer": "ipython2",
   "version": "2.7.12"
  }
 },
 "nbformat": 4,
 "nbformat_minor": 2
}
