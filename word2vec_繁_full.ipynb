{
 "cells": [
  {
   "cell_type": "code",
   "execution_count": 10,
   "metadata": {
    "collapsed": true
   },
   "outputs": [],
   "source": [
    "# coding=utf-8\n",
    "import jieba\n",
    "import numpy as np\n",
    "import matplotlib\n",
    "import matplotlib.pyplot as plt\n",
    "from sklearn.decomposition import PCA\n",
    "from hanziconv import HanziConv"
   ]
  },
  {
   "cell_type": "code",
   "execution_count": 11,
   "metadata": {
    "collapsed": true
   },
   "outputs": [],
   "source": [
    "# file path\n",
    "filePath='/Users/youngmihuang/Downloads/corpus.txt'\n",
    "fileSegWordDonePath ='corpusSegDone.txt'\n",
    "\n",
    "# read the file by file\n",
    "fileTrainRead = []\n",
    "with open(filePath) as fileTrainRaw:\n",
    "    for line in fileTrainRaw:\n",
    "        fileTrainRead.append(HanziConv.toTraditional(line))"
   ]
  },
  {
   "cell_type": "code",
   "execution_count": 13,
   "metadata": {},
   "outputs": [
    {
     "name": "stdout",
     "output_type": "stream",
     "text": [
      "0\n",
      "50000\n",
      "100000\n",
      "150000\n",
      "200000\n",
      "250000\n",
      "300000\n",
      "350000\n",
      "400000\n",
      "450000\n",
      "500000\n",
      "550000\n",
      "600000\n",
      "650000\n",
      "700000\n",
      "750000\n",
      "800000\n",
      "850000\n",
      "900000\n",
      "950000\n",
      "1000000\n",
      "1050000\n",
      "1100000\n",
      "1150000\n",
      "1200000\n",
      "1250000\n",
      "1300000\n",
      "1350000\n",
      "1400000\n"
     ]
    }
   ],
   "source": [
    "# define this function to print a list with Chinese\n",
    "def PrintListChinese(list):\n",
    "    for i in range(len(list)):\n",
    "        print list[i],\n",
    "\n",
    "# segment word with jieba\n",
    "fileTrainSeg=[]\n",
    "for i in range(len(fileTrainRead)):\n",
    "    fileTrainSeg.append([' '.join(list(jieba.cut(fileTrainRead[i][9:-11],cut_all=False)))])\n",
    "    if i % 50000 == 0 :\n",
    "        print i"
   ]
  },
  {
   "cell_type": "code",
   "execution_count": 14,
   "metadata": {
    "collapsed": true
   },
   "outputs": [],
   "source": [
    "# save the result\n",
    "with open(fileSegWordDonePath,'wb') as fW:\n",
    "    for i in range(len(fileTrainSeg)):\n",
    "        fW.write(fileTrainSeg[i][0].encode('utf-8'))\n",
    "        fW.write('\\n')"
   ]
  },
  {
   "cell_type": "code",
   "execution_count": 17,
   "metadata": {},
   "outputs": [
    {
     "name": "stdout",
     "output_type": "stream",
     "text": [
      "Starting training using file corpusSegDone.txt\n",
      "Vocab size: 842956\n",
      "Words in train file: 407852192\n"
     ]
    },
    {
     "name": "stderr",
     "output_type": "stream",
     "text": [
      "IOPub data rate exceeded.\n",
      "The notebook server will temporarily stop sending output\n",
      "to the client in order to avoid crashing it.\n",
      "To change this limit, set the config variable\n",
      "`--NotebookApp.iopub_data_rate_limit`.\n"
     ]
    }
   ],
   "source": [
    "# jieba seg words transform to word2vec\n",
    "import word2vec\n",
    "word2vec.word2vec('corpusSegDone.txt', 'corpusWord2Vec.bin', size=300,verbose=True)"
   ]
  },
  {
   "cell_type": "markdown",
   "metadata": {},
   "source": [
    "## Compare to 簡體結果\n",
    "- Starting training using file corpusSegDone.txt\n",
    "- Vocab size: 507882\n",
    "- Words in train file: 391829209\n",
    "\n",
    "### 以分詞效果看來，簡體分得比較聚合；繁體相對來講有些字他無法合併在一起看，導致字詞數較多\n",
    "\n",
    "- e.g. \"晚自習\" 在簡體會被分成 \"晚自習\"；但在繁體會被分成 \"晚\" 和 \"自習\" 兩個單詞"
   ]
  },
  {
   "cell_type": "code",
   "execution_count": 20,
   "metadata": {},
   "outputs": [
    {
     "name": "stdout",
     "output_type": "stream",
     "text": [
      "２ ０ １ ２ 年 東風 標 緻 小 桔 燈 鄉 村小 學圖 書館 計劃 於 ６ 月 ２ ３ 日 － ２ ９ 日 在 湖北省 武漢市 新洲 區鳳凰鎮 郭崗小學 舉行 ， 來 自全國 各地 的 ７ 名誌 願者 帶 著 東風 標 緻 ５ ０ ８ 汽車 捐贈 的 ２ ０ ０ ０ 本新書 ， 建立 起有 一所 “ 小桔 燈鄉 村小 學圖 書館 ” 。 Ｎ 浜 菏行 輪 耷不僅 是 革命 老區 ， 也 是 全國 有名 的 建築 之 鄉 ； 這 裏 的 人 大部分 都 外 齣 從 事 建築業 ， 導 緻 這 裏 的 留守 兒童 比例 其高 。 郭崗 小學現 有 學生 １ ３ ６ 名 （ 含教學點 一處 ） ， 其中 住校 學生 ９ ８ 名 ， 全校 ９ ０ ％ 左右 的 學生 都 是 留守 兒童 。 Ｔ 諢 疃 舉行 之前 ， 學校 圖書室 裏 擺滿 瞭陳舊 的 教科 書 ， 這 裏 的 學生 在 課外 時間 沒有 課外 書 可以 閱讀 ； 在 誌 願者 問學生 喜歡 讀什麼 書 的 時候 ， 大部分 孩子 的 迴 答 是 “ 童話 書 ” ， 當再問 他們 還喜歡 什麼 圖書 的 時候 ， 孩子 迷茫 的 眼神 讓 我們 明白 由 於 沒 有 接觸 過課 外書 ， 很多 孩子 不 知道 除 瞭童 話 書 以外 還有 什麼類 彆 的 書 可以 閱讀 。 Ｎ 瞭改變 這一現 狀 ， 此次 活動 捐贈 的 圖書涵 蓋 瞭童 話 、 中外文 學 、 傳統 文學 、 注音版 和 繪畫 闆 少兒 讀物 等 ； 學校 郭校 長 也 承諾會 在 每天 的 晚 自習 時 對 全校 學生 開放 閱讀 和 藉 書 。 ４ 舜位 疃 也 得到 瞭 文化 、 經濟 各界 名人 的 支持 ， 包括 陳 丹青 、 鄧康延 、 洪晃 、 陸琪 、 蔣 方舟 、 饒雪漫 、 瀋 顥 、 瀋 南 鵬 、 田 立新 、 熊焰 、 張瓊 ， 都 為 鄉村 兒童 推薦 瞭 他們 認為 應該 閱讀 的 圖書 ； 我們 也 在 東風 標 緻 ５ ０ ８ 汽車 的 支持 下 ， 在 捐贈 的 ２ ０ ０ ０ 本書 之外 購買 瞭 上述 人士 推薦 的 圖書 ， 作為 額外 的 補充 捐贈 給學校 。 Ｔ 諞 恢 芑 疃 的 結束 時 ， 誌 願者 們 為 孩子 們 安排 瞭 彆 開生 麵 的 錶 演 ， 幫助 孩子 們 展示 一周 以來 通過 閱讀 圖書 所 編排 的 各類 節目 ； 留守 在 村 裏 的 老人 成 瞭 孩子 們 的 觀眾 ； 而 很多 父母 都 在外 打工 的 學生 ， 則在 活動後由 於 遺憾 自己 的 錶 演 沒 有 親人觀 看 而 神傷 。 對 這些 孩子 ， 誌 願者 們 拉著 他們 做 遊戲 、 聊天 ， 幫助 他們 理解 父母 的 難處 ， 鼓勵 他們 好好 學習 ， 在 即 將到 來 的 暑假 帶著 優秀 的 成績 單去 城市 和 他們 的 父母 團聚 。\n"
     ]
    }
   ],
   "source": [
    "# define this function to print a list with Chinese\n",
    "def PrintListChinese(list):\n",
    "    for i in range(len(list)):\n",
    "        print list[i],\n",
    "# to test the segment result\n",
    "PrintListChinese(fileTrainSeg[10])"
   ]
  },
  {
   "cell_type": "code",
   "execution_count": 97,
   "metadata": {},
   "outputs": [
    {
     "name": "stdout",
     "output_type": "stream",
     "text": [
      "[[ 0.08015626  0.08850129 -0.07670335 ..., -0.02626957 -0.03316621\n",
      "   0.0614953 ]\n",
      " [-0.02138876 -0.06264357 -0.09334067 ...,  0.00015479 -0.05851945\n",
      "   0.04908165]\n",
      " [-0.00995629 -0.01481206 -0.09394402 ..., -0.01619852 -0.06687199\n",
      "   0.02453057]\n",
      " ..., \n",
      " [ 0.04989554  0.08304838 -0.05676759 ..., -0.00947851  0.07963122\n",
      "  -0.03377864]\n",
      " [-0.01265288  0.07221718  0.10141564 ...,  0.01648477  0.1009445\n",
      "  -0.07451316]\n",
      " [ 0.03596683 -0.08654522  0.03320961 ..., -0.07038685  0.09750576\n",
      "  -0.03816517]]\n"
     ]
    }
   ],
   "source": [
    "# see the word2vector\n",
    "model = word2vec.load('corpusWord2Vec.bin')\n",
    "print model.vectors"
   ]
  },
  {
   "cell_type": "code",
   "execution_count": 94,
   "metadata": {},
   "outputs": [
    {
     "name": "stdout",
     "output_type": "stream",
     "text": [
      "達到\n",
      "屏\n",
      "行為\n",
      "觀眾\n",
      "日訊\n"
     ]
    }
   ],
   "source": [
    "# see the example of vocabulary from 996 to 1000\n",
    "for i in range(995,1000):\n",
    "    print model.vocab[i]"
   ]
  },
  {
   "cell_type": "code",
   "execution_count": 68,
   "metadata": {
    "scrolled": true
   },
   "outputs": [
    {
     "name": "stdout",
     "output_type": "stream",
     "text": [
      "畢業生\n",
      "離校\n",
      "考入\n",
      "剛畢業\n",
      "大四\n",
      "學畢業\n",
      "考上\n",
      "開學\n",
      "結業\n",
      "放暑假\n"
     ]
    }
   ],
   "source": [
    "# check correlation of the specific word\n",
    "indexes = model.cosine(u'畢業')\n",
    "for index in indexes[0]:\n",
    "    print model.vocab[index]"
   ]
  },
  {
   "cell_type": "code",
   "execution_count": 73,
   "metadata": {},
   "outputs": [
    {
     "name": "stdout",
     "output_type": "stream",
     "text": [
      "寶寶的\n",
      "小寶寶\n",
      "孩子\n",
      "準媽媽\n",
      "寶寶在\n",
      "胎兒\n",
      "媽媽們\n",
      "小孩\n",
      "小孩子\n",
      "媽媽\n"
     ]
    }
   ],
   "source": [
    "indexes = model.cosine(u'寶寶')\n",
    "for index in indexes[0]:\n",
    "    print model.vocab[index]"
   ]
  },
  {
   "cell_type": "code",
   "execution_count": 74,
   "metadata": {},
   "outputs": [
    {
     "name": "stdout",
     "output_type": "stream",
     "text": [
      "坐車\n",
      "開車\n",
      "坐火車\n",
      "買票\n",
      "下車\n",
      "買菜\n",
      "上車\n",
      "搭車\n",
      "乘車\n",
      "騎車\n"
     ]
    }
   ],
   "source": [
    "indexes = model.cosine(u'打車')\n",
    "for index in indexes[0]:\n",
    "    print model.vocab[index]"
   ]
  },
  {
   "cell_type": "code",
   "execution_count": 80,
   "metadata": {},
   "outputs": [
    {
     "name": "stdout",
     "output_type": "stream",
     "text": [
      "姚晨\n",
      "林心如\n",
      "穎兒\n",
      "張智霖\n",
      "劉愷威\n",
      "馮紹峰\n",
      "鄧超\n",
      "周迅\n",
      "柳岩\n",
      "李晨\n"
     ]
    }
   ],
   "source": [
    "indexes = model.cosine(u'楊冪')\n",
    "for index in indexes[0]:\n",
    "    print model.vocab[index]"
   ]
  },
  {
   "cell_type": "code",
   "execution_count": 76,
   "metadata": {},
   "outputs": [
    {
     "name": "stdout",
     "output_type": "stream",
     "text": [
      "網易\n",
      "新浪\n",
      "百度\n",
      "優酷\n",
      "搜狗\n",
      "凡客\n",
      "窩窩團\n",
      "電商\n",
      "愛奇藝\n",
      "百視通\n"
     ]
    }
   ],
   "source": [
    "indexes = model.cosine(u'騰訊')\n",
    "for index in indexes[0]:\n",
    "    print model.vocab[index]"
   ]
  },
  {
   "cell_type": "code",
   "execution_count": 95,
   "metadata": {
    "collapsed": true
   },
   "outputs": [],
   "source": [
    "# load the word2vec model\n",
    "rawWordVec = model.vectors\n",
    " \n",
    "# reduce the dimension of word vector\n",
    "X_reduced = PCA(n_components=2).fit_transform(rawWordVec)\n",
    " \n",
    "# show some word(center word) and it's similar words\n",
    "index1,metrics1 = model.cosine(u'畢業')\n",
    "index2,metrics2 = model.cosine(u'寶寶')\n",
    "index3,metrics3 = model.cosine(u'打車')\n",
    "index4,metrics4 = model.cosine(u'楊冪')\n",
    "index5,metrics5 = model.cosine(u'騰訊')\n",
    " \n",
    "# add the index of center word \n",
    "index01=np.where(model.vocab==u'畢業')\n",
    "index02=np.where(model.vocab==u'寶寶')\n",
    "index03=np.where(model.vocab==u'打車')\n",
    "index04=np.where(model.vocab==u'楊冪')\n",
    "index05=np.where(model.vocab==u'騰訊')\n",
    " \n",
    "index1=np.append(index1,index01)\n",
    "index2=np.append(index2,index02)\n",
    "index3=np.append(index3,index03)\n",
    "index4=np.append(index4,index04)\n",
    "index5=np.append(index5,index05)\n",
    " "
   ]
  },
  {
   "cell_type": "code",
   "execution_count": 110,
   "metadata": {},
   "outputs": [
    {
     "data": {
      "image/png": "[encoded data removed]",
      "text/plain": [
       "<matplotlib.figure.Figure at 0x25ff60e90>"
      ]
     },
     "metadata": {},
     "output_type": "display_data"
    },
    {
     "data": {
      "text/plain": [
       "<matplotlib.figure.Figure at 0x18fd93110>"
      ]
     },
     "metadata": {},
     "output_type": "display_data"
    }
   ],
   "source": [
    "# plot the result\n",
    "zhfont = matplotlib.font_manager.FontProperties(fname='/Users/youngmihuang/Downloads/wqy-microhei.ttc')\n",
    "fig = plt.figure()\n",
    "ax = fig.add_subplot(111)\n",
    " \n",
    "for i in index1:\n",
    "    ax.text(X_reduced[i][0],X_reduced[i][1], model.vocab[i], fontproperties=zhfont,color='C3')\n",
    "\n",
    "for i in index2:\n",
    "    ax.text(X_reduced[i][0],X_reduced[i][1], model.vocab[i], fontproperties=zhfont,color='C1')\n",
    "\n",
    "# for i in index3:\n",
    "#     ax.text(X_reduced[i][0],X_reduced[i][1], model.vocab[i], fontproperties=zhfont,color='C7')\n",
    "\n",
    "for i in index4:\n",
    "    ax.text(X_reduced[i][0],X_reduced[i][1], model.vocab[i], fontproperties=zhfont,color='C0')\n",
    "\n",
    "# for i in index5:\n",
    "#     ax.text(X_reduced[i][0],X_reduced[i][1], model.vocab[i], fontproperties=zhfont,color='C4')\n",
    "\n",
    "ax.axis([0.10,0.43, -0.20,0.60])\n",
    "plt.figure(figsize=(60,60))\n",
    "plt.show()"
   ]
  }
 ],
 "metadata": {
  "kernelspec": {
   "display_name": "Python 2",
   "language": "python",
   "name": "python2"
  },
  "language_info": {
   "codemirror_mode": {
    "name": "ipython",
    "version": 2
   },
   "file_extension": ".py",
   "mimetype": "text/x-python",
   "name": "python",
   "nbconvert_exporter": "python",
   "pygments_lexer": "ipython2",
   "version": "2.7.12"
  }
 },
 "nbformat": 4,
 "nbformat_minor": 2
}
