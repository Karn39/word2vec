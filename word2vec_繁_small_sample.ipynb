{
 "cells": [
  {
   "cell_type": "code",
   "execution_count": 1,
   "metadata": {
    "collapsed": true
   },
   "outputs": [],
   "source": [
    "# coding=utf-8\n",
    "import jieba\n",
    "import numpy as np\n",
    "import matplotlib\n",
    "import matplotlib.pyplot as plt\n",
    "from sklearn.decomposition import PCA\n",
    "from hanziconv import HanziConv"
   ]
  },
  {
   "cell_type": "code",
   "execution_count": 5,
   "metadata": {},
   "outputs": [],
   "source": [
    "# file path\n",
    "filePath='/Users/youngmihuang/Downloads/corpusSegDone123.txt'\n",
    "fileSegWordDonePath ='corpusSegDone_small.txt'\n",
    "\n",
    "# read the file by file\n",
    "fileTrainRead = []\n",
    "with open(filePath) as fileTrainRaw:\n",
    "    for line in fileTrainRaw:\n",
    "        fileTrainRead.append(HanziConv.toTraditional(line))"
   ]
  },
  {
   "cell_type": "code",
   "execution_count": 6,
   "metadata": {},
   "outputs": [
    {
     "name": "stderr",
     "output_type": "stream",
     "text": [
      "Building prefix dict from the default dictionary ...\n",
      "Loading model from cache /var/folders/c6/vq7n4xz94bqdm56d8hb739kr0000gn/T/jieba.cache\n",
      "Loading model cost 0.640 seconds.\n",
      "Prefix dict has been built succesfully.\n"
     ]
    },
    {
     "name": "stdout",
     "output_type": "stream",
     "text": [
      "0\n"
     ]
    }
   ],
   "source": [
    "# define this function to print a list with Chinese\n",
    "def PrintListChinese(list):\n",
    "    for i in range(len(list)):\n",
    "        print list[i],\n",
    "\n",
    "# segment word with jieba\n",
    "fileTrainSeg=[]\n",
    "for i in range(len(fileTrainRead)):\n",
    "    fileTrainSeg.append([' '.join(list(jieba.cut(fileTrainRead[i][9:-11],cut_all=False)))])\n",
    "    if i % 50000 == 0 :\n",
    "        print i"
   ]
  },
  {
   "cell_type": "code",
   "execution_count": 7,
   "metadata": {},
   "outputs": [],
   "source": [
    "# save the result\n",
    "with open(fileSegWordDonePath,'wb') as fW:\n",
    "    for i in range(len(fileTrainSeg)):\n",
    "        fW.write(fileTrainSeg[i][0].encode('utf-8'))\n",
    "        fW.write('\\n')"
   ]
  },
  {
   "cell_type": "code",
   "execution_count": 40,
   "metadata": {},
   "outputs": [
    {
     "name": "stdout",
     "output_type": "stream",
     "text": [
      "Starting training using file corpusSegDone_small.txt\n",
      "Vocab size: 1780\n",
      "Words in train file: 44880\n"
     ]
    }
   ],
   "source": [
    "# jieba seg words transform to word2vec\n",
    "import word2vec\n",
    "word2vec.word2vec('corpusSegDone_small.txt', 'corpusWord2Vec_small.bin', size=500,verbose=True)"
   ]
  },
  {
   "cell_type": "code",
   "execution_count": 30,
   "metadata": {},
   "outputs": [
    {
     "name": "stdout",
     "output_type": "stream",
     "text": [
      "  東風   標   緻   小   橘   燈   鄉   村小   學圖   書館   計劃   於   ６   月   ２   ３   日   －   ２   ９   日   在   湖北省   武漢市   新洲   區鳳凰鎮   郭崗小學   舉行   ，   來   自全國   各地   的   ７   名誌 願者   帶   著   東風   標   緻   ５   ０   ８   汽車   捐贈   的   ２   ０   ０   ０   本新書   ，   建立   起有   一所   「   小橘   燈鄉   村小   學圖   書館   」   。   Ｎ   濱   菏行   輪   耷不僅   是   革命   老區   ，   也   是   全國   有名   的   建築   之   鄉   ；   這裡   的   人   大部分   都   外 齣   從事   建築業   ，   導 緻   這裡   的   留守   兒童   比例   其高   。   郭崗   小學現   有   學生   １   ３   ６   名   （   含教學點   一處   ）   ，   其中   住校   學生   ９   ８   名   ，   全校   ９   ０   ％   左右   的   學生   都   是   留守   兒童   。   Ｔ   諢   疃   舉行   之前   ，   學校   圖書   室裡   擺滿   瞭   陳   舊   的   教科   書   ，   這裡   的   學生   在   課外   時間   沒有   課外   書   可以   閱讀   ；   在   誌 願者   問學生   喜歡   讀什麼   書   的   時候   ，   大部分   孩子   的   迴 答   是   「   童話   書   」   ，   當再問   他們   還喜歡   什麼   圖書   的   時候   ，   孩子   迷茫   的   眼神   讓   我們   明白   由   於   沒   有   接觸   過課   外書   ，   很多   孩子   不   知道   除 瞭   童話   書   以外   還有   什麼   類別   的   書   可以   閱讀   。   Ｎ   瞭   改變   這一現   狀   ，   此次   活動   捐贈   的   圖書涵   蓋   瞭   童話   、   中外文   學   、   傳統   文學   、   注音版   和   繪   畫 闆   少兒   讀物   等   ；   學校   郭校   長   也   承諾會   在   每天   的   晚   自習   時   對   全校   學生   開放   閱讀   和   藉 書   。   ４   舜位   疃   也   得到   瞭   文化   、   經濟   各界   名人   的   支持   ，   包括   陳   丹青   、   鄧康延   、   洪晃   、   陸琪   、   蔣   方舟   、   饒雪漫   、   瀋 顥   、   瀋 南 鵬   、   田   立新   、   熊焰   、   張瓊   ，   都   為   鄉村   兒童   推薦   瞭   他們   認為   應該   閱讀   的   圖書   ；   我們   也   在   東風   標   緻   ５   ０   ８   汽車   的   支持   下   ，   在   捐贈   的   ２   ０   ０   ０   本書   之外   購買   瞭   上述   人士   推薦   的   圖書   ，   作為   額外   的   補充   捐贈   給學校   。   Ｔ   諞   恢   芑   疃   的   結束   時   ，   誌 願者   們   為   孩子   們   安排   瞭   別開   生 麵   的   錶 演   ，   幫助   孩子   們   展示   一週   以來   通過   閱讀   圖書   所   編排   的   各類   節目   ；   留守   在   村裡   的   老人   成   瞭   孩子   們   的   觀眾   ；   而   很多   父母   都   在外   打工   的   學生   ，   則在   活動後由   於   遺憾   自己   的   錶 演   沒有   親人觀   看   而   神傷   。   對   這些   孩子   ，   誌 願者   們   拉著   他們   做   遊戲   、   聊天   ，   幫助   他們   理解   父母   的   難處   ，   鼓勵   他們   好好   學習   ，   在   即   將到   來   的   暑假   帶著   優秀   的   成績   單去   城市   和   他們\n"
     ]
    }
   ],
   "source": [
    "# define this function to print a list with Chinese\n",
    "def PrintListChinese(list):\n",
    "    for i in range(len(list)):\n",
    "        print list[i],\n",
    "# to test the segment result\n",
    "PrintListChinese(fileTrainSeg[10])"
   ]
  },
  {
   "cell_type": "code",
   "execution_count": 41,
   "metadata": {},
   "outputs": [
    {
     "name": "stdout",
     "output_type": "stream",
     "text": [
      "[[ 0.06097658  0.06732481 -0.05834987 ...,  0.01120182 -0.06314767\n",
      "  -0.02066723]\n",
      " [-0.00962261  0.04325145 -0.01463535 ...,  0.06910425 -0.01413807\n",
      "  -0.04255764]\n",
      " [ 0.00664448  0.04895987 -0.02673419 ...,  0.0658877  -0.01178703\n",
      "  -0.04966968]\n",
      " ..., \n",
      " [-0.00400986  0.03653423 -0.0183589  ...,  0.06966398 -0.01946967\n",
      "  -0.04907073]\n",
      " [-0.02120665  0.02124848 -0.00288035 ...,  0.06813996 -0.02478162\n",
      "  -0.04058759]\n",
      " [-0.01766737  0.0263     -0.00922201 ...,  0.06867567 -0.02189532\n",
      "  -0.04273112]]\n"
     ]
    }
   ],
   "source": [
    "# see the word2vector\n",
    "model = word2vec.load('corpusWord2Vec_small.bin')\n",
    "print model.vectors"
   ]
  },
  {
   "cell_type": "code",
   "execution_count": 88,
   "metadata": {},
   "outputs": [
    {
     "name": "stdout",
     "output_type": "stream",
     "text": [
      "國務院\n",
      "油價\n",
      "關\n",
      "人次\n",
      "計劃署\n"
     ]
    }
   ],
   "source": [
    "# see the example of vocabulary from 996 to 1000\n",
    "for i in range(995,1000):\n",
    "    print model.vocab[i]"
   ]
  },
  {
   "cell_type": "code",
   "execution_count": 44,
   "metadata": {},
   "outputs": [
    {
     "name": "stdout",
     "output_type": "stream",
     "text": [
      "生態\n",
      "以及\n",
      "政策\n",
      "情況\n",
      "程度\n",
      "此次\n",
      "西藏\n",
      "綠化\n",
      "提升\n",
      "小\n"
     ]
    }
   ],
   "source": [
    "# check correlation of the specific word\n",
    "indexes = model.cosine(u'經濟')\n",
    "for index in indexes[0]:\n",
    "    print model.vocab[index]"
   ]
  },
  {
   "cell_type": "code",
   "execution_count": 74,
   "metadata": {},
   "outputs": [
    {
     "name": "stdout",
     "output_type": "stream",
     "text": [
      "關注\n",
      "條件\n",
      "能夠\n",
      "新\n",
      "掉\n",
      "成本\n",
      "不再\n",
      "一定\n",
      "工作\n",
      "更\n"
     ]
    }
   ],
   "source": [
    "indexes = model.cosine(u'企業')\n",
    "for index in indexes[0]:\n",
    "    print model.vocab[index]"
   ]
  },
  {
   "cell_type": "code",
   "execution_count": 75,
   "metadata": {
    "collapsed": true
   },
   "outputs": [],
   "source": [
    "# load the word2vec model\n",
    "rawWordVec = model.vectors\n",
    " \n",
    "# reduce the dimension of word vector\n",
    "X_reduced = PCA(n_components=2).fit_transform(rawWordVec)\n",
    " \n",
    "# show some word(center word) and it's similar words\n",
    "index1,metrics1 = model.cosine(u'經濟')\n",
    "index2,metrics2 = model.cosine(u'企業')\n",
    "\n",
    " \n",
    "# add the index of center word \n",
    "index01=np.where(model.vocab==u'企業')\n",
    "index02=np.where(model.vocab==u'經濟')\n",
    "\n",
    "index1=np.append(index1,index01)\n",
    "index2=np.append(index2,index02)\n",
    "\n",
    " "
   ]
  },
  {
   "cell_type": "markdown",
   "metadata": {},
   "source": [
    "## Comment: \n",
    "### Sample小的文檔其分詞效果較差，因資料內容的豐富度有限，導致結果會有點不準確"
   ]
  },
  {
   "cell_type": "code",
   "execution_count": 87,
   "metadata": {},
   "outputs": [
    {
     "data": {
      "image/png": "[encoded data removed]",
      "text/plain": [
       "<matplotlib.figure.Figure at 0x109486fd0>"
      ]
     },
     "metadata": {},
     "output_type": "display_data"
    },
    {
     "data": {
      "text/plain": [
       "<matplotlib.figure.Figure at 0x10f8ea350>"
      ]
     },
     "metadata": {},
     "output_type": "display_data"
    }
   ],
   "source": [
    "# plot the result\n",
    "zhfont = matplotlib.font_manager.FontProperties(fname='/Users/youngmihuang/Downloads/wqy-microhei.ttc')\n",
    "fig = plt.figure()\n",
    "ax = fig.add_subplot(111)\n",
    " \n",
    "for i in index1:\n",
    "    ax.text(X_reduced[i][0],X_reduced[i][1], model.vocab[i], fontproperties=zhfont,color='C2')\n",
    "\n",
    "for i in index2:\n",
    "    ax.text(X_reduced[i][0],X_reduced[i][1], model.vocab[i], fontproperties=zhfont,color='C1')\n",
    "\n",
    "\n",
    "ax.axis([-0.16,-0.06, -0.01,0.03])\n",
    "plt.figure(figsize=(30,30))\n",
    "plt.show()"
   ]
  }
 ],
 "metadata": {
  "kernelspec": {
   "display_name": "Python 2",
   "language": "python",
   "name": "python2"
  },
  "language_info": {
   "codemirror_mode": {
    "name": "ipython",
    "version": 2
   },
   "file_extension": ".py",
   "mimetype": "text/x-python",
   "name": "python",
   "nbconvert_exporter": "python",
   "pygments_lexer": "ipython2",
   "version": "2.7.12"
  }
 },
 "nbformat": 4,
 "nbformat_minor": 2
}
