{
 "cells": [
  {
   "cell_type": "code",
   "execution_count": 1,
   "metadata": {
    "collapsed": true
   },
   "outputs": [],
   "source": [
    "# coding=utf-8\n",
    "import jieba\n",
    "import numpy as np\n",
    "import matplotlib\n",
    "import matplotlib.pyplot as plt\n",
    "from sklearn.decomposition import PCA\n",
    "from hanziconv import HanziConv"
   ]
  },
  {
   "cell_type": "code",
   "execution_count": 2,
   "metadata": {
    "collapsed": true
   },
   "outputs": [],
   "source": [
    "# file path\n",
    "filePath='/Users/youngmihuang/Downloads/corpus_small.txt'\n",
    "fileSegWordDonePath ='corpusSegDone_small.txt'\n",
    "\n",
    "# read the file by file\n",
    "fileTrainRead = []\n",
    "with open(filePath) as fileTrainRaw:\n",
    "    for line in fileTrainRaw:\n",
    "        fileTrainRead.append(HanziConv.toTraditional(line))"
   ]
  },
  {
   "cell_type": "code",
   "execution_count": 3,
   "metadata": {},
   "outputs": [
    {
     "name": "stderr",
     "output_type": "stream",
     "text": [
      "Building prefix dict from the default dictionary ...\n",
      "Loading model from cache /var/folders/c6/vq7n4xz94bqdm56d8hb739kr0000gn/T/jieba.cache\n",
      "Loading model cost 0.626 seconds.\n",
      "Prefix dict has been built succesfully.\n"
     ]
    },
    {
     "name": "stdout",
     "output_type": "stream",
     "text": [
      "0\n"
     ]
    }
   ],
   "source": [
    "# define this function to print a list with Chinese\n",
    "def PrintListChinese(list):\n",
    "    for i in range(len(list)):\n",
    "        print list[i],\n",
    "\n",
    "# segment word with jieba\n",
    "fileTrainSeg=[]\n",
    "for i in range(len(fileTrainRead)):\n",
    "    fileTrainSeg.append([' '.join(list(jieba.cut(fileTrainRead[i][9:-11],cut_all=False)))])\n",
    "    if i % 50000 == 0 :\n",
    "        print i"
   ]
  },
  {
   "cell_type": "code",
   "execution_count": 4,
   "metadata": {
    "collapsed": true
   },
   "outputs": [],
   "source": [
    "# save the result\n",
    "with open(fileSegWordDonePath,'wb') as fW:\n",
    "    for i in range(len(fileTrainSeg)):\n",
    "        fW.write(fileTrainSeg[i][0].encode('utf-8'))\n",
    "        fW.write('\\n')"
   ]
  },
  {
   "cell_type": "code",
   "execution_count": 80,
   "metadata": {},
   "outputs": [
    {
     "name": "stdout",
     "output_type": "stream",
     "text": [
      "Starting training using file corpusSegDone_small.txt\n",
      "Vocab size: 1794\n",
      "Words in train file: 45731\n"
     ]
    }
   ],
   "source": [
    "# jieba seg words transform to word2vec\n",
    "import word2vec\n",
    "word2vec.word2vec('corpusSegDone_small.txt', 'corpusWord2Vec_small.bin', size=400,verbose=True)"
   ]
  },
  {
   "cell_type": "markdown",
   "metadata": {},
   "source": [
    "## Compare to 繁體_full結果\n",
    "\n",
    "\n",
    "### small的文本的字詞豐富度較少；可以先練習整個流程，如果有興趣可以試跑完整版，結果會更豐富\n"
   ]
  },
  {
   "cell_type": "code",
   "execution_count": 6,
   "metadata": {},
   "outputs": [
    {
     "name": "stdout",
     "output_type": "stream",
     "text": [
      "２ ０ １ ２ 年 東風 標 緻 小 桔 燈 鄉 村小 學圖 書館 計劃 於 ６ 月 ２ ３ 日 － ２ ９ 日 在 湖北省 武漢市 新洲 區鳳凰鎮 郭崗小學 舉行 ， 來 自全國 各地 的 ７ 名誌 願者 帶 著 東風 標 緻 ５ ０ ８ 汽車 捐贈 的 ２ ０ ０ ０ 本新書 ， 建立 起有 一所 “ 小桔 燈鄉 村小 學圖 書館 ” 。 Ｎ 浜 菏行 輪 耷不僅 是 革命 老區 ， 也 是 全國 有名 的 建築 之 鄉 ； 這 裏 的 人 大部分 都 外 齣 從 事 建築業 ， 導 緻 這 裏 的 留守 兒童 比例 其高 。 郭崗 小學現 有 學生 １ ３ ６ 名 （ 含教學點 一處 ） ， 其中 住校 學生 ９ ８ 名 ， 全校 ９ ０ ％ 左右 的 學生 都 是 留守 兒童 。 Ｔ 諢 疃 舉行 之前 ， 學校 圖書室 裏 擺滿 瞭陳舊 的 教科 書 ， 這 裏 的 學生 在 課外 時間 沒有 課外 書 可以 閱讀 ； 在 誌 願者 問學生 喜歡 讀什麼 書 的 時候 ， 大部分 孩子 的 迴 答 是 “ 童話 書 ” ， 當再問 他們 還喜歡 什麼 圖書 的 時候 ， 孩子 迷茫 的 眼神 讓 我們 明白 由 於 沒 有 接觸 過課 外書 ， 很多 孩子 不 知道 除 瞭童 話 書 以外 還有 什麼類 彆 的 書 可以 閱讀 。 Ｎ 瞭改變 這一現 狀 ， 此次 活動 捐贈 的 圖書涵 蓋 瞭童 話 、 中外文 學 、 傳統 文學 、 注音版 和 繪畫 闆 少兒 讀物 等 ； 學校 郭校 長 也 承諾會 在 每天 的 晚 自習 時 對 全校 學生 開放 閱讀 和 藉 書 。 ４ 舜位 疃 也 得到 瞭 文化 、 經濟 各界 名人 的 支持 ， 包括 陳 丹青 、 鄧康延 、 洪晃 、 陸琪 、 蔣 方舟 、 饒雪漫 、 瀋 顥 、 瀋 南 鵬 、 田 立新 、 熊焰 、 張瓊 ， 都 為 鄉村 兒童 推薦 瞭 他們 認為 應該 閱讀 的 圖書 ； 我們 也 在 東風 標 緻 ５ ０ ８ 汽車 的 支持 下 ， 在 捐贈 的 ２ ０ ０ ０ 本書 之外 購買 瞭 上述 人士 推薦 的 圖書 ， 作為 額外 的 補充 捐贈 給學校 。 Ｔ 諞 恢 芑 疃 的 結束 時 ， 誌 願者 們 為 孩子 們 安排 瞭 彆 開生 麵 的 錶 演 ， 幫助 孩子 們 展示 一周 以來 通過 閱讀 圖書 所 編排 的 各類 節目 ； 留守 在 村 裏 的 老人 成 瞭 孩子 們 的 觀眾 ； 而 很多 父母 都 在外 打工 的 學生 ， 則在 活動後由 於 遺憾 自己 的 錶 演 沒 有 親人觀 看 而 神傷 。 對 這些 孩子 ， 誌 願者 們 拉著 他們 做 遊戲 、 聊天 ， 幫助 他們 理解 父母 的 難處 ， 鼓勵 他們 好好 學習 ， 在 即 將到 來 的 暑假 帶著 優秀 的 成績 單去 城市 和 他們 的 父母 團聚 。\n"
     ]
    }
   ],
   "source": [
    "# define this function to print a list with Chinese\n",
    "def PrintListChinese(list):\n",
    "    for i in range(len(list)):\n",
    "        print list[i],\n",
    "# to test the segment result\n",
    "PrintListChinese(fileTrainSeg[10])"
   ]
  },
  {
   "cell_type": "code",
   "execution_count": 81,
   "metadata": {},
   "outputs": [
    {
     "name": "stdout",
     "output_type": "stream",
     "text": [
      "[[  6.91127107e-02   7.63079971e-02  -6.61355332e-02 ...,   4.71869716e-03\n",
      "    1.39057972e-02  -4.63254340e-02]\n",
      " [  3.71922441e-02  -5.70316799e-03   1.56074148e-02 ...,   2.14804616e-02\n",
      "    1.85851231e-02   6.73684105e-02]\n",
      " [  4.32869568e-02  -2.14755279e-03   1.31093254e-02 ...,   3.38027924e-02\n",
      "    1.29312454e-02   7.01377466e-02]\n",
      " ..., \n",
      " [  2.52416003e-02  -7.58278009e-04   3.41225672e-03 ...,   4.28347737e-02\n",
      "    1.00157475e-02   6.07027002e-02]\n",
      " [  3.81157584e-02   5.68019319e-03   3.11662188e-05 ...,   5.45762703e-02\n",
      "   -3.09811416e-03   6.24775738e-02]\n",
      " [  1.75587814e-02  -4.06643655e-03   2.35988083e-03 ...,   3.98262218e-02\n",
      "    1.65994484e-02   6.06774800e-02]]\n"
     ]
    }
   ],
   "source": [
    "# see the word2vector\n",
    "model = word2vec.load('corpusWord2Vec_small.bin')\n",
    "print model.vectors"
   ]
  },
  {
   "cell_type": "code",
   "execution_count": 82,
   "metadata": {},
   "outputs": [
    {
     "name": "stdout",
     "output_type": "stream",
     "text": [
      "對攏\n",
      "食物\n",
      "可幫助\n",
      "運營\n",
      "村民\n"
     ]
    }
   ],
   "source": [
    "# see the example of vocabulary from 996 to 1000\n",
    "for i in range(995,1000):\n",
    "    print model.vocab[i]"
   ]
  },
  {
   "cell_type": "code",
   "execution_count": 83,
   "metadata": {
    "scrolled": true
   },
   "outputs": [
    {
     "name": "stdout",
     "output_type": "stream",
     "text": [
      "健康\n",
      "當\n",
      "主要\n",
      "信息\n",
      "美\n",
      "待遇\n",
      "鞦\n",
      "溝通\n",
      "人力\n",
      "工人\n"
     ]
    }
   ],
   "source": [
    "# check correlation of the specific word\n",
    "indexes = model.cosine(u'企業')\n",
    "for index in indexes[0]:\n",
    "    print model.vocab[index]"
   ]
  },
  {
   "cell_type": "code",
   "execution_count": 84,
   "metadata": {},
   "outputs": [
    {
     "name": "stdout",
     "output_type": "stream",
     "text": [
      "心理\n",
      "受\n",
      "⒚\n",
      "超標\n",
      "願\n",
      "腎\n",
      "摹\n",
      "現代\n",
      "務\n",
      "支教\n"
     ]
    }
   ],
   "source": [
    "indexes = model.cosine(u'經濟')\n",
    "for index in indexes[0]:\n",
    "    print model.vocab[index]"
   ]
  },
  {
   "cell_type": "code",
   "execution_count": 85,
   "metadata": {
    "collapsed": true
   },
   "outputs": [],
   "source": [
    "# load the word2vec model\n",
    "rawWordVec = model.vectors\n",
    " \n",
    "# reduce the dimension of word vector\n",
    "X_reduced = PCA(n_components=2).fit_transform(rawWordVec)\n",
    " \n",
    "# show some word(center word) and it's similar words\n",
    "index1,metrics1 = model.cosine(u'企業')\n",
    "index2,metrics2 = model.cosine(u'經濟')\n",
    "\n",
    " \n",
    "# add the index of center word \n",
    "index01=np.where(model.vocab==u'企業')\n",
    "index02=np.where(model.vocab==u'經濟')\n",
    "\n",
    " \n",
    "index1=np.append(index1,index01)\n",
    "index2=np.append(index2,index02)\n"
   ]
  },
  {
   "cell_type": "code",
   "execution_count": 88,
   "metadata": {},
   "outputs": [
    {
     "data": {
      "image/png": "[encoded data removed]",
      "text/plain": [
       "<matplotlib.figure.Figure at 0x10fea6390>"
      ]
     },
     "metadata": {},
     "output_type": "display_data"
    },
    {
     "data": {
      "text/plain": [
       "<matplotlib.figure.Figure at 0x10ff08d90>"
      ]
     },
     "metadata": {},
     "output_type": "display_data"
    }
   ],
   "source": [
    "# plot the result\n",
    "zhfont = matplotlib.font_manager.FontProperties(fname='/Users/youngmihuang/Downloads/wqy-microhei.ttc')\n",
    "fig = plt.figure()\n",
    "ax = fig.add_subplot(111)\n",
    " \n",
    "for i in index1:\n",
    "    ax.text(X_reduced[i][0],X_reduced[i][1], model.vocab[i], fontproperties=zhfont,color='C2')\n",
    "\n",
    "for i in index2:\n",
    "    ax.text(X_reduced[i][0],X_reduced[i][1], model.vocab[i], fontproperties=zhfont,color='C1')\n",
    "\n",
    "\n",
    "ax.axis([-0.125,0.02, 0.01,0.06])\n",
    "plt.figure(figsize=(60,60))\n",
    "plt.show()"
   ]
  }
 ],
 "metadata": {
  "kernelspec": {
   "display_name": "Python 2",
   "language": "python",
   "name": "python2"
  },
  "language_info": {
   "codemirror_mode": {
    "name": "ipython",
    "version": 2
   },
   "file_extension": ".py",
   "mimetype": "text/x-python",
   "name": "python",
   "nbconvert_exporter": "python",
   "pygments_lexer": "ipython2",
   "version": "2.7.12"
  }
 },
 "nbformat": 4,
 "nbformat_minor": 2
}
